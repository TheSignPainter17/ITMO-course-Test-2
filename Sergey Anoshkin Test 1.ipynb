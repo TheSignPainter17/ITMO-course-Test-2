{
 "cells": [
  {
   "cell_type": "code",
   "execution_count": 251,
   "id": "d69bd202-5a29-4362-9a5f-67d7946eba75",
   "metadata": {},
   "outputs": [],
   "source": [
    "class Chocolate:\n",
    "    def __init__(self, price: float, extra: str = None):\n",
    "        if price <= 0:\n",
    "            raise ValueError('Некорректная цена')\n",
    "        self.price = price\n",
    "        self.extra = extra\n",
    "        \n",
    "    def show_my_chocolate(self):\n",
    "        if self.extra != None:\n",
    "            print(f'Шоколадный батончик, добавка: {self.extra}')\n",
    "        else:\n",
    "            print('Обычный шоколадный батончик')\n",
    "    \n",
    "    def __str__(self):\n",
    "        return f'Шоколадный батончик, {self.price} рублей'"
   ]
  },
  {
   "cell_type": "code",
   "execution_count": 253,
   "id": "760f79e8-5154-46db-9e0a-625eeee9d907",
   "metadata": {},
   "outputs": [],
   "source": [
    "snickers = Chocolate(99.9, 'орехи')\n",
    "mars = Chocolate(75.5)"
   ]
  },
  {
   "cell_type": "code",
   "execution_count": 261,
   "id": "e91367b0-0e3c-491f-aecd-f766d40c2e16",
   "metadata": {},
   "outputs": [
    {
     "name": "stdout",
     "output_type": "stream",
     "text": [
      "Шоколадный батончик, добавка: орехи\n",
      "Обычный шоколадный батончик\n"
     ]
    }
   ],
   "source": [
    "snickers.show_my_chocolate()\n",
    "mars.show_my_chocolate()"
   ]
  },
  {
   "cell_type": "code",
   "execution_count": 265,
   "id": "bffde90f-e007-4375-90df-1d1a88168b49",
   "metadata": {},
   "outputs": [
    {
     "name": "stdout",
     "output_type": "stream",
     "text": [
      "Шоколадный батончик, 99.9 рублей\n",
      "Шоколадный батончик, 75.5 рублей\n"
     ]
    }
   ],
   "source": [
    "print(snickers)\n",
    "print(mars)"
   ]
  },
  {
   "cell_type": "code",
   "execution_count": 267,
   "id": "e69a6af1-11b1-49cc-9dbd-e0ba00fd1356",
   "metadata": {},
   "outputs": [
    {
     "ename": "ValueError",
     "evalue": "Некорректная цена",
     "output_type": "error",
     "traceback": [
      "\u001b[1;31m---------------------------------------------------------------------------\u001b[0m",
      "\u001b[1;31mValueError\u001b[0m                                Traceback (most recent call last)",
      "Cell \u001b[1;32mIn[267], line 1\u001b[0m\n\u001b[1;32m----> 1\u001b[0m milkyway \u001b[38;5;241m=\u001b[39m Chocolate(\u001b[38;5;241m-\u001b[39m\u001b[38;5;241m20\u001b[39m)\n",
      "Cell \u001b[1;32mIn[251], line 4\u001b[0m, in \u001b[0;36mChocolate.__init__\u001b[1;34m(self, price, extra)\u001b[0m\n\u001b[0;32m      2\u001b[0m \u001b[38;5;28;01mdef\u001b[39;00m \u001b[38;5;21m__init__\u001b[39m(\u001b[38;5;28mself\u001b[39m, price: \u001b[38;5;28mfloat\u001b[39m, extra: \u001b[38;5;28mstr\u001b[39m \u001b[38;5;241m=\u001b[39m \u001b[38;5;28;01mNone\u001b[39;00m):\n\u001b[0;32m      3\u001b[0m     \u001b[38;5;28;01mif\u001b[39;00m price \u001b[38;5;241m<\u001b[39m\u001b[38;5;241m=\u001b[39m \u001b[38;5;241m0\u001b[39m:\n\u001b[1;32m----> 4\u001b[0m         \u001b[38;5;28;01mraise\u001b[39;00m \u001b[38;5;167;01mValueError\u001b[39;00m(\u001b[38;5;124m'\u001b[39m\u001b[38;5;124mНекорректная цена\u001b[39m\u001b[38;5;124m'\u001b[39m)\n\u001b[0;32m      5\u001b[0m     \u001b[38;5;28mself\u001b[39m\u001b[38;5;241m.\u001b[39mprice \u001b[38;5;241m=\u001b[39m price\n\u001b[0;32m      6\u001b[0m     \u001b[38;5;28mself\u001b[39m\u001b[38;5;241m.\u001b[39mextra \u001b[38;5;241m=\u001b[39m extra\n",
      "\u001b[1;31mValueError\u001b[0m: Некорректная цена"
     ]
    }
   ],
   "source": [
    "milkyway = Chocolate(-20)"
   ]
  }
 ],
 "metadata": {
  "kernelspec": {
   "display_name": "Python 3 (ipykernel)",
   "language": "python",
   "name": "python3"
  },
  "language_info": {
   "codemirror_mode": {
    "name": "ipython",
    "version": 3
   },
   "file_extension": ".py",
   "mimetype": "text/x-python",
   "name": "python",
   "nbconvert_exporter": "python",
   "pygments_lexer": "ipython3",
   "version": "3.11.7"
  }
 },
 "nbformat": 4,
 "nbformat_minor": 5
}
